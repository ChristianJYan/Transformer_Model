{
 "cells": [
  {
   "attachments": {},
   "cell_type": "markdown",
   "metadata": {},
   "source": [
    "# Imports"
   ]
  },
  {
   "cell_type": "code",
   "execution_count": 50,
   "metadata": {},
   "outputs": [],
   "source": [
    "import tiktoken\n",
    "import torch\n",
    "from torch.nn import functional as F"
   ]
  },
  {
   "attachments": {},
   "cell_type": "markdown",
   "metadata": {},
   "source": [
    "### Data loading and Encoding"
   ]
  },
  {
   "cell_type": "code",
   "execution_count": 51,
   "metadata": {},
   "outputs": [
    {
     "name": "stdout",
     "output_type": "stream",
     "text": [
      "\n",
      " !\"#',-./0123456789:;?ABCDEFGHIJKLMNOPQRSTUVWXYZ\\abcdefghijklmnopqrstuvwxyz\n",
      "76\n"
     ]
    }
   ],
   "source": [
    "with open('../StarWarsScripts/AllScripts.txt', 'r', encoding='utf-8') as f:\n",
    "    text = f.read()\n",
    "#print(\"length: \", len(text)) \n",
    "#print(text[:1000])\n",
    "\n",
    "#Find out how many characters and which ones\n",
    "chars = sorted(list(set(text)))\n",
    "vocab_size = len(chars)\n",
    "print(''.join(chars))\n",
    "print(vocab_size)\n",
    "\n",
    "##enc = tiktoken.get_encoding('gpt2')\n",
    "#enc.n_vocab\n",
    "#test = enc.encode(\"hello world\")\n",
    "\n",
    "#Encoding all data using the tiktoken tokenizer\n",
    "##data = torch.tensor(enc.encode(text),dtype=torch.long)\n",
    "\n",
    "#print(data.shape,data.dtype)\n",
    "#print(data[:1000])\n",
    "\n",
    "\n",
    "stoi = {ch:i for i,ch in enumerate(chars)}\n",
    "itos = {i:ch for i,ch in enumerate(chars)}\n",
    "\n",
    "encode = lambda s:[stoi[c] for c in s]\n",
    "decode = lambda l: ''.join([itos[i] for i in l])\n",
    "\n",
    "#print(encode(\"hii there\"))\n",
    "#print(decode(encode(\"hii there\")))\n",
    "\n",
    "#Encoding all data using the custom tokenizer\n",
    "data = torch.tensor(encode(text),dtype=torch.long)\n",
    "\n",
    "#print(data.shape, data.dtype)\n",
    "#print(data[:1000])"
   ]
  },
  {
   "attachments": {},
   "cell_type": "markdown",
   "metadata": {},
   "source": [
    "### Splitting Data into Training and Validation"
   ]
  },
  {
   "cell_type": "code",
   "execution_count": 52,
   "metadata": {},
   "outputs": [],
   "source": [
    "#Split data for training and validation\n",
    "train_num = int(0.9*len(data))\n",
    "\n",
    "train_data = data[:train_num]\n",
    "val_data = data[train_num:]"
   ]
  },
  {
   "cell_type": "code",
   "execution_count": 53,
   "metadata": {},
   "outputs": [],
   "source": [
    "block_size = 8\n",
    "batch_size = 4"
   ]
  },
  {
   "cell_type": "code",
   "execution_count": 54,
   "metadata": {},
   "outputs": [],
   "source": [
    "def GetBatch(split):\n",
    "    #Pick which split we should pull data from\n",
    "    data = train_data if split == 'train' else val_data\n",
    "    #Start of a random index in the data\n",
    "    index = torch.randint(len(data) - block_size, (batch_size,))\n",
    "    #Get the x and y batches. y will be our target values so we must go +1 on start and end\n",
    "    #Using stack to get them in rows should be [batch_size][block_size] matrix\n",
    "    x = torch.stack([data[i:i+block_size] for i in index])\n",
    "    y = torch.stack([data[i+1:i+block_size + 1] for i in index])\n",
    "    return x, y\n",
    "\n",
    "xb,yb = GetBatch('train')"
   ]
  },
  {
   "attachments": {},
   "cell_type": "markdown",
   "metadata": {},
   "source": [
    "#### Bigram Model"
   ]
  },
  {
   "cell_type": "code",
   "execution_count": 62,
   "metadata": {},
   "outputs": [],
   "source": [
    "class BigramLanguageModel(torch.nn.Module):\n",
    "    def __init__(self, vocab_size):\n",
    "        super().__init__()\n",
    "        self.token_embedding_table = torch.nn.Embedding(vocab_size, vocab_size)\n",
    "    \n",
    "    def forward(self,idx, targets=None):\n",
    "        logits = self.token_embedding_table(idx)\n",
    "        if targets is None:\n",
    "            loss = None\n",
    "        else:\n",
    "            B, T, C = logits.shape\n",
    "            logits = logits.view(B*T,C)\n",
    "            targets = targets.view(B*T)\n",
    "            loss = F.cross_entropy(logits,targets)\n",
    "\n",
    "        return logits, loss\n",
    "    def Generate(self,idx,max_new_tokens):\n",
    "        #Idx will be (B,T) goal is (B,T + 1) -> (B,T + ...) -> (B,T + max_new_tokens). continue generating max_new_tokens\n",
    "        for _ in range(max_new_tokens):\n",
    "            #Get predictions\n",
    "            logits, loss = self(idx)\n",
    "            #Look only at last time step\n",
    "            logits = logits[:,-1, :] #changes into (B,C)\n",
    "            #Apply a softmax to get probilities\n",
    "            probs = F.softmax(logits, dim=1) # still (B,C)\n",
    "            #This is going to get a single sample from our probablities for each batch (B,1)\n",
    "            idx_next = torch.multinomial(probs, num_samples=1)\n",
    "            #add the sample index to the current sequence\n",
    "            idx = torch.cat((idx,idx_next),dim = 1) # now it is (B, T + 1)\n",
    "        return idx"
   ]
  },
  {
   "attachments": {},
   "cell_type": "markdown",
   "metadata": {},
   "source": [
    "#### Generating and Loss"
   ]
  },
  {
   "cell_type": "code",
   "execution_count": 63,
   "metadata": {},
   "outputs": [
    {
     "name": "stdout",
     "output_type": "stream",
     "text": [
      "torch.Size([32, 76])\n",
      "tensor(5.0086, grad_fn=<NllLossBackward0>)\n",
      "\n",
      "Tq#:1MWw8oacf8h9aLOHHVelrAVsaejfMQnrdEHV4l\n",
      "xTBD0wd3fM5od31\\EamJYSOJ\"IW#W04a36r#sx/kP:24lhQyYyXD\";plO\n"
     ]
    }
   ],
   "source": [
    "m = BigramLanguageModel(vocab_size)\n",
    "logits, loss = m(xb, yb)\n",
    "print(logits.shape)\n",
    "print(loss)\n",
    "#First index will be 0. \n",
    "idx = torch.zeros((1,1),dtype=torch.long)\n",
    "#print(decode(m.Generate(idx, max_new_tokens=100)[0].tolist()))"
   ]
  },
  {
   "cell_type": "code",
   "execution_count": 64,
   "metadata": {},
   "outputs": [],
   "source": [
    "#a pytorch optimizer Adam\n",
    "optimizer = torch.optim.AdamW(m.parameters(),lr=1e-3)"
   ]
  },
  {
   "cell_type": "code",
   "execution_count": 76,
   "metadata": {},
   "outputs": [
    {
     "name": "stdout",
     "output_type": "stream",
     "text": [
      "2.3781020641326904\n"
     ]
    }
   ],
   "source": [
    "batch_size = 32\n",
    "epochs = 10000\n",
    "for steps in range(epochs):\n",
    "    #get batch samples\n",
    "    xb, yb = GetBatch('train')\n",
    "\n",
    "    #find the loss\n",
    "    logits, loss = m(xb,yb)\n",
    "    optimizer.zero_grad(set_to_none=True)\n",
    "    loss.backward()\n",
    "    optimizer.step()\n",
    "    \n",
    "print(loss.item())"
   ]
  },
  {
   "cell_type": "code",
   "execution_count": 78,
   "metadata": {},
   "outputs": [
    {
     "name": "stdout",
     "output_type": "stream",
     "text": [
      "\n",
      "\" s oneesethayoro y \"Gerwhinome so be-er sne I  t  g, \"Cath rissinoak! wanthe.\"THRCain. shing m jur t led. \"blloratis an \"LEADol.. Ry gover..\"\n",
      "\"9\" \"LLUKADor Yong \"\n",
      "\"\n",
      "\"Turesk!\" \" he.\"Lx/gs \" \"THADOhelasharke.\"LI ce.\"157549\"Bugooust. \"\n",
      "\"\n",
      "\" in. ald azer heam monce..\"19928\"Sist Y nd fote \"N\"LI's min't. ing s tereelinghad hth!\"\n",
      "\"HR bes \"YO\\k WEc/VO\" Yor chine \" ar t \" LUKetheil \"\n",
      "\"Luro fownge in leatal\n"
     ]
    }
   ],
   "source": [
    "print(decode(m.Generate(idx, max_new_tokens=100)[0].tolist()))"
   ]
  }
 ],
 "metadata": {
  "kernelspec": {
   "display_name": "Python 3",
   "language": "python",
   "name": "python3"
  },
  "language_info": {
   "codemirror_mode": {
    "name": "ipython",
    "version": 3
   },
   "file_extension": ".py",
   "mimetype": "text/x-python",
   "name": "python",
   "nbconvert_exporter": "python",
   "pygments_lexer": "ipython3",
   "version": "3.11.3"
  },
  "orig_nbformat": 4
 },
 "nbformat": 4,
 "nbformat_minor": 2
}
